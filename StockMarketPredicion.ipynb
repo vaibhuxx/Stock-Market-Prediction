{
  "nbformat": 4,
  "nbformat_minor": 0,
  "metadata": {
    "colab": {
      "provenance": [],
      "collapsed_sections": [],
      "authorship_tag": "ABX9TyNE+MgdiI1mFtP7ULVHjaqF",
      "include_colab_link": true
    },
    "kernelspec": {
      "name": "python3",
      "display_name": "Python 3"
    },
    "language_info": {
      "name": "python"
    }
  },
  "cells": [
    {
      "cell_type": "markdown",
      "metadata": {
        "id": "view-in-github",
        "colab_type": "text"
      },
      "source": [
        "<a href=\"https://colab.research.google.com/github/vaibhuxx/Stock-Market-Prediction/blob/main/StockMarketPredicion.ipynb\" target=\"_parent\"><img src=\"https://colab.research.google.com/assets/colab-badge.svg\" alt=\"Open In Colab\"/></a>"
      ]
    },
    {
      "cell_type": "markdown",
      "source": [
        "# Stock Market Forecasting\n"
      ],
      "metadata": {
        "id": "yFnUxU-rFaFa"
      }
    },
    {
      "cell_type": "markdown",
      "source": [
        "Stock Market Prediction and forecasting using Stacked LSTM"
      ],
      "metadata": {
        "id": "h7PMR9rCQyc2"
      }
    },
    {
      "cell_type": "markdown",
      "source": [
        "IMPORT LIBRARIES"
      ],
      "metadata": {
        "id": "iX423d1mQ-l1"
      }
    },
    {
      "cell_type": "code",
      "source": [
        "import pandas as pd\n",
        "import matplotlib.pyplot as plt\n",
        "import numpy as np\n",
        "from sklearn.preprocessing import MinMaxScaler\n"
      ],
      "metadata": {
        "id": "bseNvTW8FikK"
      },
      "execution_count": null,
      "outputs": []
    },
    {
      "cell_type": "markdown",
      "source": [
        "LOAD DATA"
      ],
      "metadata": {
        "id": "z5jwqJ4uRCWn"
      }
    },
    {
      "cell_type": "code",
      "source": [
        "data = pd.read_csv(\"/Stock_2018.csv\")"
      ],
      "metadata": {
        "id": "2N4jW9WWF0Ld"
      },
      "execution_count": null,
      "outputs": []
    },
    {
      "cell_type": "code",
      "source": [
        "data.head()"
      ],
      "metadata": {
        "colab": {
          "base_uri": "https://localhost:8080/",
          "height": 206
        },
        "id": "Qqhsa-uFF94I",
        "outputId": "5a0cbe88-9a59-4a2a-9db1-990dc4117048"
      },
      "execution_count": null,
      "outputs": [
        {
          "output_type": "execute_result",
          "data": {
            "text/plain": [
              "         Date    Open    High     Low    Last   Close  Total Trade Quantity  \\\n",
              "0  2018-09-28  234.05  235.95  230.20  233.50  233.75               3069914   \n",
              "1  2018-09-27  234.55  236.80  231.10  233.80  233.25               5082859   \n",
              "2  2018-09-26  240.00  240.00  232.50  235.00  234.25               2240909   \n",
              "3  2018-09-25  233.30  236.75  232.00  236.25  236.10               2349368   \n",
              "4  2018-09-24  233.55  239.20  230.75  234.00  233.30               3423509   \n",
              "\n",
              "   Turnover (Lacs)  \n",
              "0          7162.35  \n",
              "1         11859.95  \n",
              "2          5248.60  \n",
              "3          5503.90  \n",
              "4          7999.55  "
            ],
            "text/html": [
              "\n",
              "  <div id=\"df-18a99a12-70bb-4971-a0b4-0e221d8510e6\">\n",
              "    <div class=\"colab-df-container\">\n",
              "      <div>\n",
              "<style scoped>\n",
              "    .dataframe tbody tr th:only-of-type {\n",
              "        vertical-align: middle;\n",
              "    }\n",
              "\n",
              "    .dataframe tbody tr th {\n",
              "        vertical-align: top;\n",
              "    }\n",
              "\n",
              "    .dataframe thead th {\n",
              "        text-align: right;\n",
              "    }\n",
              "</style>\n",
              "<table border=\"1\" class=\"dataframe\">\n",
              "  <thead>\n",
              "    <tr style=\"text-align: right;\">\n",
              "      <th></th>\n",
              "      <th>Date</th>\n",
              "      <th>Open</th>\n",
              "      <th>High</th>\n",
              "      <th>Low</th>\n",
              "      <th>Last</th>\n",
              "      <th>Close</th>\n",
              "      <th>Total Trade Quantity</th>\n",
              "      <th>Turnover (Lacs)</th>\n",
              "    </tr>\n",
              "  </thead>\n",
              "  <tbody>\n",
              "    <tr>\n",
              "      <th>0</th>\n",
              "      <td>2018-09-28</td>\n",
              "      <td>234.05</td>\n",
              "      <td>235.95</td>\n",
              "      <td>230.20</td>\n",
              "      <td>233.50</td>\n",
              "      <td>233.75</td>\n",
              "      <td>3069914</td>\n",
              "      <td>7162.35</td>\n",
              "    </tr>\n",
              "    <tr>\n",
              "      <th>1</th>\n",
              "      <td>2018-09-27</td>\n",
              "      <td>234.55</td>\n",
              "      <td>236.80</td>\n",
              "      <td>231.10</td>\n",
              "      <td>233.80</td>\n",
              "      <td>233.25</td>\n",
              "      <td>5082859</td>\n",
              "      <td>11859.95</td>\n",
              "    </tr>\n",
              "    <tr>\n",
              "      <th>2</th>\n",
              "      <td>2018-09-26</td>\n",
              "      <td>240.00</td>\n",
              "      <td>240.00</td>\n",
              "      <td>232.50</td>\n",
              "      <td>235.00</td>\n",
              "      <td>234.25</td>\n",
              "      <td>2240909</td>\n",
              "      <td>5248.60</td>\n",
              "    </tr>\n",
              "    <tr>\n",
              "      <th>3</th>\n",
              "      <td>2018-09-25</td>\n",
              "      <td>233.30</td>\n",
              "      <td>236.75</td>\n",
              "      <td>232.00</td>\n",
              "      <td>236.25</td>\n",
              "      <td>236.10</td>\n",
              "      <td>2349368</td>\n",
              "      <td>5503.90</td>\n",
              "    </tr>\n",
              "    <tr>\n",
              "      <th>4</th>\n",
              "      <td>2018-09-24</td>\n",
              "      <td>233.55</td>\n",
              "      <td>239.20</td>\n",
              "      <td>230.75</td>\n",
              "      <td>234.00</td>\n",
              "      <td>233.30</td>\n",
              "      <td>3423509</td>\n",
              "      <td>7999.55</td>\n",
              "    </tr>\n",
              "  </tbody>\n",
              "</table>\n",
              "</div>\n",
              "      <button class=\"colab-df-convert\" onclick=\"convertToInteractive('df-18a99a12-70bb-4971-a0b4-0e221d8510e6')\"\n",
              "              title=\"Convert this dataframe to an interactive table.\"\n",
              "              style=\"display:none;\">\n",
              "        \n",
              "  <svg xmlns=\"http://www.w3.org/2000/svg\" height=\"24px\"viewBox=\"0 0 24 24\"\n",
              "       width=\"24px\">\n",
              "    <path d=\"M0 0h24v24H0V0z\" fill=\"none\"/>\n",
              "    <path d=\"M18.56 5.44l.94 2.06.94-2.06 2.06-.94-2.06-.94-.94-2.06-.94 2.06-2.06.94zm-11 1L8.5 8.5l.94-2.06 2.06-.94-2.06-.94L8.5 2.5l-.94 2.06-2.06.94zm10 10l.94 2.06.94-2.06 2.06-.94-2.06-.94-.94-2.06-.94 2.06-2.06.94z\"/><path d=\"M17.41 7.96l-1.37-1.37c-.4-.4-.92-.59-1.43-.59-.52 0-1.04.2-1.43.59L10.3 9.45l-7.72 7.72c-.78.78-.78 2.05 0 2.83L4 21.41c.39.39.9.59 1.41.59.51 0 1.02-.2 1.41-.59l7.78-7.78 2.81-2.81c.8-.78.8-2.07 0-2.86zM5.41 20L4 18.59l7.72-7.72 1.47 1.35L5.41 20z\"/>\n",
              "  </svg>\n",
              "      </button>\n",
              "      \n",
              "  <style>\n",
              "    .colab-df-container {\n",
              "      display:flex;\n",
              "      flex-wrap:wrap;\n",
              "      gap: 12px;\n",
              "    }\n",
              "\n",
              "    .colab-df-convert {\n",
              "      background-color: #E8F0FE;\n",
              "      border: none;\n",
              "      border-radius: 50%;\n",
              "      cursor: pointer;\n",
              "      display: none;\n",
              "      fill: #1967D2;\n",
              "      height: 32px;\n",
              "      padding: 0 0 0 0;\n",
              "      width: 32px;\n",
              "    }\n",
              "\n",
              "    .colab-df-convert:hover {\n",
              "      background-color: #E2EBFA;\n",
              "      box-shadow: 0px 1px 2px rgba(60, 64, 67, 0.3), 0px 1px 3px 1px rgba(60, 64, 67, 0.15);\n",
              "      fill: #174EA6;\n",
              "    }\n",
              "\n",
              "    [theme=dark] .colab-df-convert {\n",
              "      background-color: #3B4455;\n",
              "      fill: #D2E3FC;\n",
              "    }\n",
              "\n",
              "    [theme=dark] .colab-df-convert:hover {\n",
              "      background-color: #434B5C;\n",
              "      box-shadow: 0px 1px 3px 1px rgba(0, 0, 0, 0.15);\n",
              "      filter: drop-shadow(0px 1px 2px rgba(0, 0, 0, 0.3));\n",
              "      fill: #FFFFFF;\n",
              "    }\n",
              "  </style>\n",
              "\n",
              "      <script>\n",
              "        const buttonEl =\n",
              "          document.querySelector('#df-18a99a12-70bb-4971-a0b4-0e221d8510e6 button.colab-df-convert');\n",
              "        buttonEl.style.display =\n",
              "          google.colab.kernel.accessAllowed ? 'block' : 'none';\n",
              "\n",
              "        async function convertToInteractive(key) {\n",
              "          const element = document.querySelector('#df-18a99a12-70bb-4971-a0b4-0e221d8510e6');\n",
              "          const dataTable =\n",
              "            await google.colab.kernel.invokeFunction('convertToInteractive',\n",
              "                                                     [key], {});\n",
              "          if (!dataTable) return;\n",
              "\n",
              "          const docLinkHtml = 'Like what you see? Visit the ' +\n",
              "            '<a target=\"_blank\" href=https://colab.research.google.com/notebooks/data_table.ipynb>data table notebook</a>'\n",
              "            + ' to learn more about interactive tables.';\n",
              "          element.innerHTML = '';\n",
              "          dataTable['output_type'] = 'display_data';\n",
              "          await google.colab.output.renderOutput(dataTable, element);\n",
              "          const docLink = document.createElement('div');\n",
              "          docLink.innerHTML = docLinkHtml;\n",
              "          element.appendChild(docLink);\n",
              "        }\n",
              "      </script>\n",
              "    </div>\n",
              "  </div>\n",
              "  "
            ]
          },
          "metadata": {},
          "execution_count": 10
        }
      ]
    },
    {
      "cell_type": "code",
      "source": [
        "data.tail()"
      ],
      "metadata": {
        "colab": {
          "base_uri": "https://localhost:8080/",
          "height": 206
        },
        "id": "gxuSmg_uHI6N",
        "outputId": "87be1758-e875-4097-a8e5-4264cadb8aa6"
      },
      "execution_count": null,
      "outputs": [
        {
          "output_type": "execute_result",
          "data": {
            "text/plain": [
              "            Date   Open    High     Low    Last   Close  Total Trade Quantity  \\\n",
              "2030  2010-07-27  117.6  119.50  112.00  118.80  118.65                586100   \n",
              "2031  2010-07-26  120.1  121.00  117.10  117.10  117.60                658440   \n",
              "2032  2010-07-23  121.8  121.95  120.25  120.35  120.65                281312   \n",
              "2033  2010-07-22  120.3  122.00  120.25  120.75  120.90                293312   \n",
              "2034  2010-07-21  122.1  123.00  121.05  121.10  121.55                658666   \n",
              "\n",
              "      Turnover (Lacs)  \n",
              "2030           694.98  \n",
              "2031           780.01  \n",
              "2032           340.31  \n",
              "2033           355.17  \n",
              "2034           803.56  "
            ],
            "text/html": [
              "\n",
              "  <div id=\"df-47b8a0d0-eef9-4a31-92f4-8d6fcf839c70\">\n",
              "    <div class=\"colab-df-container\">\n",
              "      <div>\n",
              "<style scoped>\n",
              "    .dataframe tbody tr th:only-of-type {\n",
              "        vertical-align: middle;\n",
              "    }\n",
              "\n",
              "    .dataframe tbody tr th {\n",
              "        vertical-align: top;\n",
              "    }\n",
              "\n",
              "    .dataframe thead th {\n",
              "        text-align: right;\n",
              "    }\n",
              "</style>\n",
              "<table border=\"1\" class=\"dataframe\">\n",
              "  <thead>\n",
              "    <tr style=\"text-align: right;\">\n",
              "      <th></th>\n",
              "      <th>Date</th>\n",
              "      <th>Open</th>\n",
              "      <th>High</th>\n",
              "      <th>Low</th>\n",
              "      <th>Last</th>\n",
              "      <th>Close</th>\n",
              "      <th>Total Trade Quantity</th>\n",
              "      <th>Turnover (Lacs)</th>\n",
              "    </tr>\n",
              "  </thead>\n",
              "  <tbody>\n",
              "    <tr>\n",
              "      <th>2030</th>\n",
              "      <td>2010-07-27</td>\n",
              "      <td>117.6</td>\n",
              "      <td>119.50</td>\n",
              "      <td>112.00</td>\n",
              "      <td>118.80</td>\n",
              "      <td>118.65</td>\n",
              "      <td>586100</td>\n",
              "      <td>694.98</td>\n",
              "    </tr>\n",
              "    <tr>\n",
              "      <th>2031</th>\n",
              "      <td>2010-07-26</td>\n",
              "      <td>120.1</td>\n",
              "      <td>121.00</td>\n",
              "      <td>117.10</td>\n",
              "      <td>117.10</td>\n",
              "      <td>117.60</td>\n",
              "      <td>658440</td>\n",
              "      <td>780.01</td>\n",
              "    </tr>\n",
              "    <tr>\n",
              "      <th>2032</th>\n",
              "      <td>2010-07-23</td>\n",
              "      <td>121.8</td>\n",
              "      <td>121.95</td>\n",
              "      <td>120.25</td>\n",
              "      <td>120.35</td>\n",
              "      <td>120.65</td>\n",
              "      <td>281312</td>\n",
              "      <td>340.31</td>\n",
              "    </tr>\n",
              "    <tr>\n",
              "      <th>2033</th>\n",
              "      <td>2010-07-22</td>\n",
              "      <td>120.3</td>\n",
              "      <td>122.00</td>\n",
              "      <td>120.25</td>\n",
              "      <td>120.75</td>\n",
              "      <td>120.90</td>\n",
              "      <td>293312</td>\n",
              "      <td>355.17</td>\n",
              "    </tr>\n",
              "    <tr>\n",
              "      <th>2034</th>\n",
              "      <td>2010-07-21</td>\n",
              "      <td>122.1</td>\n",
              "      <td>123.00</td>\n",
              "      <td>121.05</td>\n",
              "      <td>121.10</td>\n",
              "      <td>121.55</td>\n",
              "      <td>658666</td>\n",
              "      <td>803.56</td>\n",
              "    </tr>\n",
              "  </tbody>\n",
              "</table>\n",
              "</div>\n",
              "      <button class=\"colab-df-convert\" onclick=\"convertToInteractive('df-47b8a0d0-eef9-4a31-92f4-8d6fcf839c70')\"\n",
              "              title=\"Convert this dataframe to an interactive table.\"\n",
              "              style=\"display:none;\">\n",
              "        \n",
              "  <svg xmlns=\"http://www.w3.org/2000/svg\" height=\"24px\"viewBox=\"0 0 24 24\"\n",
              "       width=\"24px\">\n",
              "    <path d=\"M0 0h24v24H0V0z\" fill=\"none\"/>\n",
              "    <path d=\"M18.56 5.44l.94 2.06.94-2.06 2.06-.94-2.06-.94-.94-2.06-.94 2.06-2.06.94zm-11 1L8.5 8.5l.94-2.06 2.06-.94-2.06-.94L8.5 2.5l-.94 2.06-2.06.94zm10 10l.94 2.06.94-2.06 2.06-.94-2.06-.94-.94-2.06-.94 2.06-2.06.94z\"/><path d=\"M17.41 7.96l-1.37-1.37c-.4-.4-.92-.59-1.43-.59-.52 0-1.04.2-1.43.59L10.3 9.45l-7.72 7.72c-.78.78-.78 2.05 0 2.83L4 21.41c.39.39.9.59 1.41.59.51 0 1.02-.2 1.41-.59l7.78-7.78 2.81-2.81c.8-.78.8-2.07 0-2.86zM5.41 20L4 18.59l7.72-7.72 1.47 1.35L5.41 20z\"/>\n",
              "  </svg>\n",
              "      </button>\n",
              "      \n",
              "  <style>\n",
              "    .colab-df-container {\n",
              "      display:flex;\n",
              "      flex-wrap:wrap;\n",
              "      gap: 12px;\n",
              "    }\n",
              "\n",
              "    .colab-df-convert {\n",
              "      background-color: #E8F0FE;\n",
              "      border: none;\n",
              "      border-radius: 50%;\n",
              "      cursor: pointer;\n",
              "      display: none;\n",
              "      fill: #1967D2;\n",
              "      height: 32px;\n",
              "      padding: 0 0 0 0;\n",
              "      width: 32px;\n",
              "    }\n",
              "\n",
              "    .colab-df-convert:hover {\n",
              "      background-color: #E2EBFA;\n",
              "      box-shadow: 0px 1px 2px rgba(60, 64, 67, 0.3), 0px 1px 3px 1px rgba(60, 64, 67, 0.15);\n",
              "      fill: #174EA6;\n",
              "    }\n",
              "\n",
              "    [theme=dark] .colab-df-convert {\n",
              "      background-color: #3B4455;\n",
              "      fill: #D2E3FC;\n",
              "    }\n",
              "\n",
              "    [theme=dark] .colab-df-convert:hover {\n",
              "      background-color: #434B5C;\n",
              "      box-shadow: 0px 1px 3px 1px rgba(0, 0, 0, 0.15);\n",
              "      filter: drop-shadow(0px 1px 2px rgba(0, 0, 0, 0.3));\n",
              "      fill: #FFFFFF;\n",
              "    }\n",
              "  </style>\n",
              "\n",
              "      <script>\n",
              "        const buttonEl =\n",
              "          document.querySelector('#df-47b8a0d0-eef9-4a31-92f4-8d6fcf839c70 button.colab-df-convert');\n",
              "        buttonEl.style.display =\n",
              "          google.colab.kernel.accessAllowed ? 'block' : 'none';\n",
              "\n",
              "        async function convertToInteractive(key) {\n",
              "          const element = document.querySelector('#df-47b8a0d0-eef9-4a31-92f4-8d6fcf839c70');\n",
              "          const dataTable =\n",
              "            await google.colab.kernel.invokeFunction('convertToInteractive',\n",
              "                                                     [key], {});\n",
              "          if (!dataTable) return;\n",
              "\n",
              "          const docLinkHtml = 'Like what you see? Visit the ' +\n",
              "            '<a target=\"_blank\" href=https://colab.research.google.com/notebooks/data_table.ipynb>data table notebook</a>'\n",
              "            + ' to learn more about interactive tables.';\n",
              "          element.innerHTML = '';\n",
              "          dataTable['output_type'] = 'display_data';\n",
              "          await google.colab.output.renderOutput(dataTable, element);\n",
              "          const docLink = document.createElement('div');\n",
              "          docLink.innerHTML = docLinkHtml;\n",
              "          element.appendChild(docLink);\n",
              "        }\n",
              "      </script>\n",
              "    </div>\n",
              "  </div>\n",
              "  "
            ]
          },
          "metadata": {},
          "execution_count": 11
        }
      ]
    },
    {
      "cell_type": "markdown",
      "source": [
        "SORT WITH DATE"
      ],
      "metadata": {
        "id": "72klam1jRJVP"
      }
    },
    {
      "cell_type": "code",
      "source": [
        "data['Date']=pd.to_datetime(data['Date'])\n",
        "print(type(data.Date[0]))"
      ],
      "metadata": {
        "colab": {
          "base_uri": "https://localhost:8080/"
        },
        "id": "lrXVR0lDHMPF",
        "outputId": "d060dc12-908c-4a2f-de2a-153b0b7fdea2"
      },
      "execution_count": null,
      "outputs": [
        {
          "output_type": "stream",
          "name": "stdout",
          "text": [
            "<class 'pandas._libs.tslibs.timestamps.Timestamp'>\n"
          ]
        }
      ]
    },
    {
      "cell_type": "code",
      "source": [
        "df=data.sort_values(by='Date')\n",
        "df.head()"
      ],
      "metadata": {
        "colab": {
          "base_uri": "https://localhost:8080/",
          "height": 206
        },
        "id": "zQyeeNfkHhDR",
        "outputId": "8a3b0367-57cb-41e7-c623-8e179749dc94"
      },
      "execution_count": null,
      "outputs": [
        {
          "output_type": "execute_result",
          "data": {
            "text/plain": [
              "           Date   Open    High     Low    Last   Close  Total Trade Quantity  \\\n",
              "2034 2010-07-21  122.1  123.00  121.05  121.10  121.55                658666   \n",
              "2033 2010-07-22  120.3  122.00  120.25  120.75  120.90                293312   \n",
              "2032 2010-07-23  121.8  121.95  120.25  120.35  120.65                281312   \n",
              "2031 2010-07-26  120.1  121.00  117.10  117.10  117.60                658440   \n",
              "2030 2010-07-27  117.6  119.50  112.00  118.80  118.65                586100   \n",
              "\n",
              "      Turnover (Lacs)  \n",
              "2034           803.56  \n",
              "2033           355.17  \n",
              "2032           340.31  \n",
              "2031           780.01  \n",
              "2030           694.98  "
            ],
            "text/html": [
              "\n",
              "  <div id=\"df-4fb99761-8b0e-4e1c-8037-2e0744ba3c25\">\n",
              "    <div class=\"colab-df-container\">\n",
              "      <div>\n",
              "<style scoped>\n",
              "    .dataframe tbody tr th:only-of-type {\n",
              "        vertical-align: middle;\n",
              "    }\n",
              "\n",
              "    .dataframe tbody tr th {\n",
              "        vertical-align: top;\n",
              "    }\n",
              "\n",
              "    .dataframe thead th {\n",
              "        text-align: right;\n",
              "    }\n",
              "</style>\n",
              "<table border=\"1\" class=\"dataframe\">\n",
              "  <thead>\n",
              "    <tr style=\"text-align: right;\">\n",
              "      <th></th>\n",
              "      <th>Date</th>\n",
              "      <th>Open</th>\n",
              "      <th>High</th>\n",
              "      <th>Low</th>\n",
              "      <th>Last</th>\n",
              "      <th>Close</th>\n",
              "      <th>Total Trade Quantity</th>\n",
              "      <th>Turnover (Lacs)</th>\n",
              "    </tr>\n",
              "  </thead>\n",
              "  <tbody>\n",
              "    <tr>\n",
              "      <th>2034</th>\n",
              "      <td>2010-07-21</td>\n",
              "      <td>122.1</td>\n",
              "      <td>123.00</td>\n",
              "      <td>121.05</td>\n",
              "      <td>121.10</td>\n",
              "      <td>121.55</td>\n",
              "      <td>658666</td>\n",
              "      <td>803.56</td>\n",
              "    </tr>\n",
              "    <tr>\n",
              "      <th>2033</th>\n",
              "      <td>2010-07-22</td>\n",
              "      <td>120.3</td>\n",
              "      <td>122.00</td>\n",
              "      <td>120.25</td>\n",
              "      <td>120.75</td>\n",
              "      <td>120.90</td>\n",
              "      <td>293312</td>\n",
              "      <td>355.17</td>\n",
              "    </tr>\n",
              "    <tr>\n",
              "      <th>2032</th>\n",
              "      <td>2010-07-23</td>\n",
              "      <td>121.8</td>\n",
              "      <td>121.95</td>\n",
              "      <td>120.25</td>\n",
              "      <td>120.35</td>\n",
              "      <td>120.65</td>\n",
              "      <td>281312</td>\n",
              "      <td>340.31</td>\n",
              "    </tr>\n",
              "    <tr>\n",
              "      <th>2031</th>\n",
              "      <td>2010-07-26</td>\n",
              "      <td>120.1</td>\n",
              "      <td>121.00</td>\n",
              "      <td>117.10</td>\n",
              "      <td>117.10</td>\n",
              "      <td>117.60</td>\n",
              "      <td>658440</td>\n",
              "      <td>780.01</td>\n",
              "    </tr>\n",
              "    <tr>\n",
              "      <th>2030</th>\n",
              "      <td>2010-07-27</td>\n",
              "      <td>117.6</td>\n",
              "      <td>119.50</td>\n",
              "      <td>112.00</td>\n",
              "      <td>118.80</td>\n",
              "      <td>118.65</td>\n",
              "      <td>586100</td>\n",
              "      <td>694.98</td>\n",
              "    </tr>\n",
              "  </tbody>\n",
              "</table>\n",
              "</div>\n",
              "      <button class=\"colab-df-convert\" onclick=\"convertToInteractive('df-4fb99761-8b0e-4e1c-8037-2e0744ba3c25')\"\n",
              "              title=\"Convert this dataframe to an interactive table.\"\n",
              "              style=\"display:none;\">\n",
              "        \n",
              "  <svg xmlns=\"http://www.w3.org/2000/svg\" height=\"24px\"viewBox=\"0 0 24 24\"\n",
              "       width=\"24px\">\n",
              "    <path d=\"M0 0h24v24H0V0z\" fill=\"none\"/>\n",
              "    <path d=\"M18.56 5.44l.94 2.06.94-2.06 2.06-.94-2.06-.94-.94-2.06-.94 2.06-2.06.94zm-11 1L8.5 8.5l.94-2.06 2.06-.94-2.06-.94L8.5 2.5l-.94 2.06-2.06.94zm10 10l.94 2.06.94-2.06 2.06-.94-2.06-.94-.94-2.06-.94 2.06-2.06.94z\"/><path d=\"M17.41 7.96l-1.37-1.37c-.4-.4-.92-.59-1.43-.59-.52 0-1.04.2-1.43.59L10.3 9.45l-7.72 7.72c-.78.78-.78 2.05 0 2.83L4 21.41c.39.39.9.59 1.41.59.51 0 1.02-.2 1.41-.59l7.78-7.78 2.81-2.81c.8-.78.8-2.07 0-2.86zM5.41 20L4 18.59l7.72-7.72 1.47 1.35L5.41 20z\"/>\n",
              "  </svg>\n",
              "      </button>\n",
              "      \n",
              "  <style>\n",
              "    .colab-df-container {\n",
              "      display:flex;\n",
              "      flex-wrap:wrap;\n",
              "      gap: 12px;\n",
              "    }\n",
              "\n",
              "    .colab-df-convert {\n",
              "      background-color: #E8F0FE;\n",
              "      border: none;\n",
              "      border-radius: 50%;\n",
              "      cursor: pointer;\n",
              "      display: none;\n",
              "      fill: #1967D2;\n",
              "      height: 32px;\n",
              "      padding: 0 0 0 0;\n",
              "      width: 32px;\n",
              "    }\n",
              "\n",
              "    .colab-df-convert:hover {\n",
              "      background-color: #E2EBFA;\n",
              "      box-shadow: 0px 1px 2px rgba(60, 64, 67, 0.3), 0px 1px 3px 1px rgba(60, 64, 67, 0.15);\n",
              "      fill: #174EA6;\n",
              "    }\n",
              "\n",
              "    [theme=dark] .colab-df-convert {\n",
              "      background-color: #3B4455;\n",
              "      fill: #D2E3FC;\n",
              "    }\n",
              "\n",
              "    [theme=dark] .colab-df-convert:hover {\n",
              "      background-color: #434B5C;\n",
              "      box-shadow: 0px 1px 3px 1px rgba(0, 0, 0, 0.15);\n",
              "      filter: drop-shadow(0px 1px 2px rgba(0, 0, 0, 0.3));\n",
              "      fill: #FFFFFF;\n",
              "    }\n",
              "  </style>\n",
              "\n",
              "      <script>\n",
              "        const buttonEl =\n",
              "          document.querySelector('#df-4fb99761-8b0e-4e1c-8037-2e0744ba3c25 button.colab-df-convert');\n",
              "        buttonEl.style.display =\n",
              "          google.colab.kernel.accessAllowed ? 'block' : 'none';\n",
              "\n",
              "        async function convertToInteractive(key) {\n",
              "          const element = document.querySelector('#df-4fb99761-8b0e-4e1c-8037-2e0744ba3c25');\n",
              "          const dataTable =\n",
              "            await google.colab.kernel.invokeFunction('convertToInteractive',\n",
              "                                                     [key], {});\n",
              "          if (!dataTable) return;\n",
              "\n",
              "          const docLinkHtml = 'Like what you see? Visit the ' +\n",
              "            '<a target=\"_blank\" href=https://colab.research.google.com/notebooks/data_table.ipynb>data table notebook</a>'\n",
              "            + ' to learn more about interactive tables.';\n",
              "          element.innerHTML = '';\n",
              "          dataTable['output_type'] = 'display_data';\n",
              "          await google.colab.output.renderOutput(dataTable, element);\n",
              "          const docLink = document.createElement('div');\n",
              "          docLink.innerHTML = docLinkHtml;\n",
              "          element.appendChild(docLink);\n",
              "        }\n",
              "      </script>\n",
              "    </div>\n",
              "  </div>\n",
              "  "
            ]
          },
          "metadata": {},
          "execution_count": 14
        }
      ]
    },
    {
      "cell_type": "code",
      "source": [
        "df.reset_index(inplace=True)"
      ],
      "metadata": {
        "id": "x5IuA7BKHo31"
      },
      "execution_count": null,
      "outputs": []
    },
    {
      "cell_type": "code",
      "source": [
        "df.head()"
      ],
      "metadata": {
        "colab": {
          "base_uri": "https://localhost:8080/",
          "height": 206
        },
        "id": "aJ0xAko_KKa6",
        "outputId": "9fa64f9a-3526-4743-f45c-80446d5e4801"
      },
      "execution_count": null,
      "outputs": [
        {
          "output_type": "execute_result",
          "data": {
            "text/plain": [
              "   index       Date   Open    High     Low    Last   Close  \\\n",
              "0   2034 2010-07-21  122.1  123.00  121.05  121.10  121.55   \n",
              "1   2033 2010-07-22  120.3  122.00  120.25  120.75  120.90   \n",
              "2   2032 2010-07-23  121.8  121.95  120.25  120.35  120.65   \n",
              "3   2031 2010-07-26  120.1  121.00  117.10  117.10  117.60   \n",
              "4   2030 2010-07-27  117.6  119.50  112.00  118.80  118.65   \n",
              "\n",
              "   Total Trade Quantity  Turnover (Lacs)  \n",
              "0                658666           803.56  \n",
              "1                293312           355.17  \n",
              "2                281312           340.31  \n",
              "3                658440           780.01  \n",
              "4                586100           694.98  "
            ],
            "text/html": [
              "\n",
              "  <div id=\"df-a715f177-4812-48cf-a5f6-9f0c38327f23\">\n",
              "    <div class=\"colab-df-container\">\n",
              "      <div>\n",
              "<style scoped>\n",
              "    .dataframe tbody tr th:only-of-type {\n",
              "        vertical-align: middle;\n",
              "    }\n",
              "\n",
              "    .dataframe tbody tr th {\n",
              "        vertical-align: top;\n",
              "    }\n",
              "\n",
              "    .dataframe thead th {\n",
              "        text-align: right;\n",
              "    }\n",
              "</style>\n",
              "<table border=\"1\" class=\"dataframe\">\n",
              "  <thead>\n",
              "    <tr style=\"text-align: right;\">\n",
              "      <th></th>\n",
              "      <th>index</th>\n",
              "      <th>Date</th>\n",
              "      <th>Open</th>\n",
              "      <th>High</th>\n",
              "      <th>Low</th>\n",
              "      <th>Last</th>\n",
              "      <th>Close</th>\n",
              "      <th>Total Trade Quantity</th>\n",
              "      <th>Turnover (Lacs)</th>\n",
              "    </tr>\n",
              "  </thead>\n",
              "  <tbody>\n",
              "    <tr>\n",
              "      <th>0</th>\n",
              "      <td>2034</td>\n",
              "      <td>2010-07-21</td>\n",
              "      <td>122.1</td>\n",
              "      <td>123.00</td>\n",
              "      <td>121.05</td>\n",
              "      <td>121.10</td>\n",
              "      <td>121.55</td>\n",
              "      <td>658666</td>\n",
              "      <td>803.56</td>\n",
              "    </tr>\n",
              "    <tr>\n",
              "      <th>1</th>\n",
              "      <td>2033</td>\n",
              "      <td>2010-07-22</td>\n",
              "      <td>120.3</td>\n",
              "      <td>122.00</td>\n",
              "      <td>120.25</td>\n",
              "      <td>120.75</td>\n",
              "      <td>120.90</td>\n",
              "      <td>293312</td>\n",
              "      <td>355.17</td>\n",
              "    </tr>\n",
              "    <tr>\n",
              "      <th>2</th>\n",
              "      <td>2032</td>\n",
              "      <td>2010-07-23</td>\n",
              "      <td>121.8</td>\n",
              "      <td>121.95</td>\n",
              "      <td>120.25</td>\n",
              "      <td>120.35</td>\n",
              "      <td>120.65</td>\n",
              "      <td>281312</td>\n",
              "      <td>340.31</td>\n",
              "    </tr>\n",
              "    <tr>\n",
              "      <th>3</th>\n",
              "      <td>2031</td>\n",
              "      <td>2010-07-26</td>\n",
              "      <td>120.1</td>\n",
              "      <td>121.00</td>\n",
              "      <td>117.10</td>\n",
              "      <td>117.10</td>\n",
              "      <td>117.60</td>\n",
              "      <td>658440</td>\n",
              "      <td>780.01</td>\n",
              "    </tr>\n",
              "    <tr>\n",
              "      <th>4</th>\n",
              "      <td>2030</td>\n",
              "      <td>2010-07-27</td>\n",
              "      <td>117.6</td>\n",
              "      <td>119.50</td>\n",
              "      <td>112.00</td>\n",
              "      <td>118.80</td>\n",
              "      <td>118.65</td>\n",
              "      <td>586100</td>\n",
              "      <td>694.98</td>\n",
              "    </tr>\n",
              "  </tbody>\n",
              "</table>\n",
              "</div>\n",
              "      <button class=\"colab-df-convert\" onclick=\"convertToInteractive('df-a715f177-4812-48cf-a5f6-9f0c38327f23')\"\n",
              "              title=\"Convert this dataframe to an interactive table.\"\n",
              "              style=\"display:none;\">\n",
              "        \n",
              "  <svg xmlns=\"http://www.w3.org/2000/svg\" height=\"24px\"viewBox=\"0 0 24 24\"\n",
              "       width=\"24px\">\n",
              "    <path d=\"M0 0h24v24H0V0z\" fill=\"none\"/>\n",
              "    <path d=\"M18.56 5.44l.94 2.06.94-2.06 2.06-.94-2.06-.94-.94-2.06-.94 2.06-2.06.94zm-11 1L8.5 8.5l.94-2.06 2.06-.94-2.06-.94L8.5 2.5l-.94 2.06-2.06.94zm10 10l.94 2.06.94-2.06 2.06-.94-2.06-.94-.94-2.06-.94 2.06-2.06.94z\"/><path d=\"M17.41 7.96l-1.37-1.37c-.4-.4-.92-.59-1.43-.59-.52 0-1.04.2-1.43.59L10.3 9.45l-7.72 7.72c-.78.78-.78 2.05 0 2.83L4 21.41c.39.39.9.59 1.41.59.51 0 1.02-.2 1.41-.59l7.78-7.78 2.81-2.81c.8-.78.8-2.07 0-2.86zM5.41 20L4 18.59l7.72-7.72 1.47 1.35L5.41 20z\"/>\n",
              "  </svg>\n",
              "      </button>\n",
              "      \n",
              "  <style>\n",
              "    .colab-df-container {\n",
              "      display:flex;\n",
              "      flex-wrap:wrap;\n",
              "      gap: 12px;\n",
              "    }\n",
              "\n",
              "    .colab-df-convert {\n",
              "      background-color: #E8F0FE;\n",
              "      border: none;\n",
              "      border-radius: 50%;\n",
              "      cursor: pointer;\n",
              "      display: none;\n",
              "      fill: #1967D2;\n",
              "      height: 32px;\n",
              "      padding: 0 0 0 0;\n",
              "      width: 32px;\n",
              "    }\n",
              "\n",
              "    .colab-df-convert:hover {\n",
              "      background-color: #E2EBFA;\n",
              "      box-shadow: 0px 1px 2px rgba(60, 64, 67, 0.3), 0px 1px 3px 1px rgba(60, 64, 67, 0.15);\n",
              "      fill: #174EA6;\n",
              "    }\n",
              "\n",
              "    [theme=dark] .colab-df-convert {\n",
              "      background-color: #3B4455;\n",
              "      fill: #D2E3FC;\n",
              "    }\n",
              "\n",
              "    [theme=dark] .colab-df-convert:hover {\n",
              "      background-color: #434B5C;\n",
              "      box-shadow: 0px 1px 3px 1px rgba(0, 0, 0, 0.15);\n",
              "      filter: drop-shadow(0px 1px 2px rgba(0, 0, 0, 0.3));\n",
              "      fill: #FFFFFF;\n",
              "    }\n",
              "  </style>\n",
              "\n",
              "      <script>\n",
              "        const buttonEl =\n",
              "          document.querySelector('#df-a715f177-4812-48cf-a5f6-9f0c38327f23 button.colab-df-convert');\n",
              "        buttonEl.style.display =\n",
              "          google.colab.kernel.accessAllowed ? 'block' : 'none';\n",
              "\n",
              "        async function convertToInteractive(key) {\n",
              "          const element = document.querySelector('#df-a715f177-4812-48cf-a5f6-9f0c38327f23');\n",
              "          const dataTable =\n",
              "            await google.colab.kernel.invokeFunction('convertToInteractive',\n",
              "                                                     [key], {});\n",
              "          if (!dataTable) return;\n",
              "\n",
              "          const docLinkHtml = 'Like what you see? Visit the ' +\n",
              "            '<a target=\"_blank\" href=https://colab.research.google.com/notebooks/data_table.ipynb>data table notebook</a>'\n",
              "            + ' to learn more about interactive tables.';\n",
              "          element.innerHTML = '';\n",
              "          dataTable['output_type'] = 'display_data';\n",
              "          await google.colab.output.renderOutput(dataTable, element);\n",
              "          const docLink = document.createElement('div');\n",
              "          docLink.innerHTML = docLinkHtml;\n",
              "          element.appendChild(docLink);\n",
              "        }\n",
              "      </script>\n",
              "    </div>\n",
              "  </div>\n",
              "  "
            ]
          },
          "metadata": {},
          "execution_count": 16
        }
      ]
    },
    {
      "cell_type": "code",
      "source": [
        "plt.plot(df['Close'])"
      ],
      "metadata": {
        "colab": {
          "base_uri": "https://localhost:8080/",
          "height": 282
        },
        "id": "6nDf_d0PKM6a",
        "outputId": "fa4b1b48-2731-4a83-b4c2-d7e5c4716f29"
      },
      "execution_count": null,
      "outputs": [
        {
          "output_type": "execute_result",
          "data": {
            "text/plain": [
              "[<matplotlib.lines.Line2D at 0x7f4ca2f53610>]"
            ]
          },
          "metadata": {},
          "execution_count": 17
        },
        {
          "output_type": "display_data",
          "data": {
            "text/plain": [
              "<Figure size 432x288 with 1 Axes>"
            ],
            "image/png": "[encoded data removed]"
          },
          "metadata": {
            "needs_background": "light"
          }
        }
      ]
    },
    {
      "cell_type": "code",
      "source": [
        "df1=df['Close']"
      ],
      "metadata": {
        "id": "sAn3iGe4Kzw0"
      },
      "execution_count": null,
      "outputs": []
    },
    {
      "cell_type": "markdown",
      "source": [
        "1. PREPARE DATA\n"
      ],
      "metadata": {
        "id": "XX1fFdLqRRW9"
      }
    },
    {
      "cell_type": "markdown",
      "source": [
        "LSTM are sensitive to scale of the data, therefore applying MinMax scaler"
      ],
      "metadata": {
        "id": "feZIHd58RU4j"
      }
    },
    {
      "cell_type": "code",
      "source": [
        "scaler=MinMaxScaler(feature_range=(0,1))\n",
        "df1=scaler.fit_transform(np.array(df1).reshape(-1,1))\n",
        "df1"
      ],
      "metadata": {
        "colab": {
          "base_uri": "https://localhost:8080/"
        },
        "id": "8s6RNw_PKRSz",
        "outputId": "6f852cdd-87d5-4a44-e479-a449801b65e8"
      },
      "execution_count": null,
      "outputs": [
        {
          "output_type": "execute_result",
          "data": {
            "text/plain": [
              "array([[0.16584967],\n",
              "       [0.16319444],\n",
              "       [0.1621732 ],\n",
              "       ...,\n",
              "       [0.62622549],\n",
              "       [0.62214052],\n",
              "       [0.62418301]])"
            ]
          },
          "metadata": {},
          "execution_count": 21
        }
      ]
    },
    {
      "cell_type": "markdown",
      "source": [
        "splitting dataset into train and test split"
      ],
      "metadata": {
        "id": "LF488IIBRh40"
      }
    },
    {
      "cell_type": "code",
      "source": [
        "training_size=int(len(df1)*0.70)\n",
        "test_size=len(df1)-training_size\n",
        "train_data,test_data=df1[0:training_size,:],df1[training_size:len(df1),:1]"
      ],
      "metadata": {
        "id": "ZlQkah5fKn8v"
      },
      "execution_count": null,
      "outputs": []
    },
    {
      "cell_type": "code",
      "source": [
        "training_size,test_size"
      ],
      "metadata": {
        "colab": {
          "base_uri": "https://localhost:8080/"
        },
        "id": "_-a8qhZALSQV",
        "outputId": "4b3835c7-aa68-4659-e6ba-4904abdca888"
      },
      "execution_count": null,
      "outputs": [
        {
          "output_type": "execute_result",
          "data": {
            "text/plain": [
              "(1424, 611)"
            ]
          },
          "metadata": {},
          "execution_count": 25
        }
      ]
    },
    {
      "cell_type": "markdown",
      "source": [
        "convert an array of values into a dataset matrix"
      ],
      "metadata": {
        "id": "YPNJBAzQRtJl"
      }
    },
    {
      "cell_type": "code",
      "source": [
        "def create_dataset(dataset,time_step=1):\n",
        "  dataX,dataY=[],[]\n",
        "  for i in range(len(dataset)-time_step-1):\n",
        "    a=dataset[i:(i+time_step),0]\n",
        "    dataX.append(a)\n",
        "    dataY.append(dataset[i+time_step,0])\n",
        "  return np.array(dataX), np.array(dataY)"
      ],
      "metadata": {
        "id": "4Qg7fLvgLmo7"
      },
      "execution_count": null,
      "outputs": []
    },
    {
      "cell_type": "markdown",
      "source": [
        "reshape into X=t,t+1,t+2,t+3 and Y=t+4"
      ],
      "metadata": {
        "id": "x7TMtgDQR4Et"
      }
    },
    {
      "cell_type": "code",
      "source": [
        "time_step = 100\n",
        "x_train, y_train = create_dataset(train_data, time_step)\n",
        "x_test, ytest = create_dataset(test_data, time_step)"
      ],
      "metadata": {
        "id": "Bmml9RFjMQmZ"
      },
      "execution_count": null,
      "outputs": []
    },
    {
      "cell_type": "code",
      "source": [
        "print(x_train.shape), print(y_train.shape)"
      ],
      "metadata": {
        "colab": {
          "base_uri": "https://localhost:8080/"
        },
        "id": "Yde-kwdcMyc6",
        "outputId": "0f730109-1e2a-46cc-e679-3773b875357a"
      },
      "execution_count": null,
      "outputs": [
        {
          "output_type": "stream",
          "name": "stdout",
          "text": [
            "(1323, 100)\n",
            "(1323,)\n"
          ]
        },
        {
          "output_type": "execute_result",
          "data": {
            "text/plain": [
              "(None, None)"
            ]
          },
          "metadata": {},
          "execution_count": 29
        }
      ]
    },
    {
      "cell_type": "code",
      "source": [
        "print(x_test.shape), print(ytest.shape)"
      ],
      "metadata": {
        "colab": {
          "base_uri": "https://localhost:8080/"
        },
        "id": "5VcNnr_9M5U7",
        "outputId": "75e4d0de-860a-49bf-b413-9f4fcfb865d2"
      },
      "execution_count": null,
      "outputs": [
        {
          "output_type": "stream",
          "name": "stdout",
          "text": [
            "(510, 100)\n",
            "(510,)\n"
          ]
        },
        {
          "output_type": "execute_result",
          "data": {
            "text/plain": [
              "(None, None)"
            ]
          },
          "metadata": {},
          "execution_count": 31
        }
      ]
    },
    {
      "cell_type": "code",
      "source": [
        "x_train =x_train.reshape(x_train.shape[0],x_train.shape[1],1)\n",
        "x_test = x_test.reshape(x_test.shape[0],x_test.shape[1],1)"
      ],
      "metadata": {
        "id": "YP90hn3cNDdQ"
      },
      "execution_count": null,
      "outputs": []
    },
    {
      "cell_type": "markdown",
      "source": [
        "1. MODEL BUILDING"
      ],
      "metadata": {
        "id": "ec2RjFz7SFth"
      }
    },
    {
      "cell_type": "markdown",
      "source": [
        "creating the stacked LSTM model"
      ],
      "metadata": {
        "id": "VPQfuQtkSNt2"
      }
    },
    {
      "cell_type": "code",
      "source": [
        "from tensorflow.keras.models import Sequential\n",
        "from tensorflow.keras.layers import Dense\n",
        "from tensorflow.keras.layers import LSTM"
      ],
      "metadata": {
        "id": "ylzzrN20Nsf-"
      },
      "execution_count": null,
      "outputs": []
    },
    {
      "cell_type": "code",
      "source": [
        "model = Sequential()\n",
        "model.add(LSTM(50,return_sequences=True,input_shape=(100,1)))\n",
        "model.add(LSTM(50,return_sequences=True))\n",
        "model.add(LSTM(50))\n",
        "model.add(Dense(1))\n",
        "model.compile(loss='mean_squared_error', optimizer='adam')\n",
        "model.summary()"
      ],
      "metadata": {
        "colab": {
          "base_uri": "https://localhost:8080/"
        },
        "id": "um2ZTUWZN0r-",
        "outputId": "94ad3fe4-1d1d-43e8-dc85-1e0d2ed578fb"
      },
      "execution_count": null,
      "outputs": [
        {
          "output_type": "stream",
          "name": "stdout",
          "text": [
            "Model: \"sequential\"\n",
            "_________________________________________________________________\n",
            " Layer (type)                Output Shape              Param #   \n",
            "=================================================================\n",
            " lstm (LSTM)                 (None, 100, 50)           10400     \n",
            "                                                                 \n",
            " lstm_1 (LSTM)               (None, 100, 50)           20200     \n",
            "                                                                 \n",
            " lstm_2 (LSTM)               (None, 50)                20200     \n",
            "                                                                 \n",
            " dense (Dense)               (None, 1)                 51        \n",
            "                                                                 \n",
            "=================================================================\n",
            "Total params: 50,851\n",
            "Trainable params: 50,851\n",
            "Non-trainable params: 0\n",
            "_________________________________________________________________\n"
          ]
        }
      ]
    },
    {
      "cell_type": "code",
      "source": [
        "model.fit(x_train,y_train,validation_split=0.1,epochs=60,batch_size=64,verbose=1)"
      ],
      "metadata": {
        "colab": {
          "base_uri": "https://localhost:8080/"
        },
        "id": "U-UHXN7XOrd9",
        "outputId": "4ca0f65d-b7d3-4e37-fb6d-42551abd838c"
      },
      "execution_count": null,
      "outputs": [
        {
          "output_type": "stream",
          "name": "stdout",
          "text": [
            "Epoch 1/60\n",
            "19/19 [==============================] - 11s 256ms/step - loss: 0.0105 - val_loss: 0.0011\n",
            "Epoch 2/60\n",
            "19/19 [==============================] - 3s 182ms/step - loss: 0.0018 - val_loss: 0.0013\n",
            "Epoch 3/60\n",
            "19/19 [==============================] - 3s 179ms/step - loss: 9.1493e-04 - val_loss: 0.0012\n",
            "Epoch 4/60\n",
            "19/19 [==============================] - 3s 181ms/step - loss: 8.1705e-04 - val_loss: 0.0011\n",
            "Epoch 5/60\n",
            "19/19 [==============================] - 3s 182ms/step - loss: 7.8940e-04 - val_loss: 0.0011\n",
            "Epoch 6/60\n",
            "19/19 [==============================] - 3s 180ms/step - loss: 7.8832e-04 - val_loss: 0.0010\n",
            "Epoch 7/60\n",
            "19/19 [==============================] - 3s 180ms/step - loss: 7.6174e-04 - val_loss: 9.8930e-04\n",
            "Epoch 8/60\n",
            "19/19 [==============================] - 3s 180ms/step - loss: 7.6266e-04 - val_loss: 0.0010\n",
            "Epoch 9/60\n",
            "19/19 [==============================] - 3s 180ms/step - loss: 7.3777e-04 - val_loss: 0.0010\n",
            "Epoch 10/60\n",
            "19/19 [==============================] - 3s 179ms/step - loss: 7.9021e-04 - val_loss: 8.9539e-04\n",
            "Epoch 11/60\n",
            "19/19 [==============================] - 3s 179ms/step - loss: 7.8732e-04 - val_loss: 8.8922e-04\n",
            "Epoch 12/60\n",
            "19/19 [==============================] - 3s 180ms/step - loss: 6.7610e-04 - val_loss: 8.6383e-04\n",
            "Epoch 13/60\n",
            "19/19 [==============================] - 3s 181ms/step - loss: 6.8027e-04 - val_loss: 8.3042e-04\n",
            "Epoch 14/60\n",
            "19/19 [==============================] - 3s 180ms/step - loss: 6.6358e-04 - val_loss: 8.3875e-04\n",
            "Epoch 15/60\n",
            "19/19 [==============================] - 4s 184ms/step - loss: 6.7126e-04 - val_loss: 7.8481e-04\n",
            "Epoch 16/60\n",
            "19/19 [==============================] - 3s 180ms/step - loss: 6.1459e-04 - val_loss: 7.5592e-04\n",
            "Epoch 17/60\n",
            "19/19 [==============================] - 3s 180ms/step - loss: 6.0224e-04 - val_loss: 6.8701e-04\n",
            "Epoch 18/60\n",
            "19/19 [==============================] - 4s 184ms/step - loss: 5.9289e-04 - val_loss: 6.5213e-04\n",
            "Epoch 19/60\n",
            "19/19 [==============================] - 3s 180ms/step - loss: 5.7142e-04 - val_loss: 6.5919e-04\n",
            "Epoch 20/60\n",
            "19/19 [==============================] - 3s 181ms/step - loss: 5.4652e-04 - val_loss: 6.3021e-04\n",
            "Epoch 21/60\n",
            "19/19 [==============================] - 3s 182ms/step - loss: 5.3008e-04 - val_loss: 5.7968e-04\n",
            "Epoch 22/60\n",
            "19/19 [==============================] - 3s 184ms/step - loss: 5.2905e-04 - val_loss: 5.8227e-04\n",
            "Epoch 23/60\n",
            "19/19 [==============================] - 3s 181ms/step - loss: 5.8509e-04 - val_loss: 5.4518e-04\n",
            "Epoch 24/60\n",
            "19/19 [==============================] - 3s 182ms/step - loss: 5.0576e-04 - val_loss: 5.7970e-04\n",
            "Epoch 25/60\n",
            "19/19 [==============================] - 3s 178ms/step - loss: 5.0004e-04 - val_loss: 5.0685e-04\n",
            "Epoch 26/60\n",
            "19/19 [==============================] - 3s 180ms/step - loss: 5.0658e-04 - val_loss: 5.2068e-04\n",
            "Epoch 27/60\n",
            "19/19 [==============================] - 3s 182ms/step - loss: 4.6374e-04 - val_loss: 5.0747e-04\n",
            "Epoch 28/60\n",
            "19/19 [==============================] - 3s 183ms/step - loss: 4.4965e-04 - val_loss: 5.1437e-04\n",
            "Epoch 29/60\n",
            "19/19 [==============================] - 3s 179ms/step - loss: 4.5029e-04 - val_loss: 5.2538e-04\n",
            "Epoch 30/60\n",
            "19/19 [==============================] - 3s 179ms/step - loss: 4.3587e-04 - val_loss: 4.9657e-04\n",
            "Epoch 31/60\n",
            "19/19 [==============================] - 3s 184ms/step - loss: 4.2510e-04 - val_loss: 4.5164e-04\n",
            "Epoch 32/60\n",
            "19/19 [==============================] - 3s 181ms/step - loss: 4.0609e-04 - val_loss: 4.0702e-04\n",
            "Epoch 33/60\n",
            "19/19 [==============================] - 3s 181ms/step - loss: 4.0002e-04 - val_loss: 4.2010e-04\n",
            "Epoch 34/60\n",
            "19/19 [==============================] - 3s 181ms/step - loss: 3.9198e-04 - val_loss: 3.8159e-04\n",
            "Epoch 35/60\n",
            "19/19 [==============================] - 3s 180ms/step - loss: 3.7460e-04 - val_loss: 3.6584e-04\n",
            "Epoch 36/60\n",
            "19/19 [==============================] - 4s 185ms/step - loss: 3.6291e-04 - val_loss: 3.6646e-04\n",
            "Epoch 37/60\n",
            "19/19 [==============================] - 3s 182ms/step - loss: 3.9702e-04 - val_loss: 3.6375e-04\n",
            "Epoch 38/60\n",
            "19/19 [==============================] - 3s 182ms/step - loss: 3.8697e-04 - val_loss: 4.2681e-04\n",
            "Epoch 39/60\n",
            "19/19 [==============================] - 4s 206ms/step - loss: 3.3966e-04 - val_loss: 3.1698e-04\n",
            "Epoch 40/60\n",
            "19/19 [==============================] - 5s 243ms/step - loss: 3.6070e-04 - val_loss: 3.1931e-04\n",
            "Epoch 41/60\n",
            "19/19 [==============================] - 3s 179ms/step - loss: 3.4241e-04 - val_loss: 3.1860e-04\n",
            "Epoch 42/60\n",
            "19/19 [==============================] - 5s 247ms/step - loss: 3.1343e-04 - val_loss: 2.7709e-04\n",
            "Epoch 43/60\n",
            "19/19 [==============================] - 4s 211ms/step - loss: 3.1835e-04 - val_loss: 3.1725e-04\n",
            "Epoch 44/60\n",
            "19/19 [==============================] - 3s 180ms/step - loss: 3.0010e-04 - val_loss: 2.5315e-04\n",
            "Epoch 45/60\n",
            "19/19 [==============================] - 4s 209ms/step - loss: 2.8956e-04 - val_loss: 2.5784e-04\n",
            "Epoch 46/60\n",
            "19/19 [==============================] - 5s 250ms/step - loss: 2.7970e-04 - val_loss: 2.4161e-04\n",
            "Epoch 47/60\n",
            "19/19 [==============================] - 4s 208ms/step - loss: 2.8197e-04 - val_loss: 2.7034e-04\n",
            "Epoch 48/60\n",
            "19/19 [==============================] - 4s 187ms/step - loss: 3.2897e-04 - val_loss: 2.3588e-04\n",
            "Epoch 49/60\n",
            "19/19 [==============================] - 5s 242ms/step - loss: 2.6031e-04 - val_loss: 2.5920e-04\n",
            "Epoch 50/60\n",
            "19/19 [==============================] - 3s 182ms/step - loss: 2.7090e-04 - val_loss: 3.3122e-04\n",
            "Epoch 51/60\n",
            "19/19 [==============================] - 5s 273ms/step - loss: 2.8834e-04 - val_loss: 2.2224e-04\n",
            "Epoch 52/60\n",
            "19/19 [==============================] - 4s 183ms/step - loss: 2.4429e-04 - val_loss: 2.3982e-04\n",
            "Epoch 53/60\n",
            "19/19 [==============================] - 4s 208ms/step - loss: 2.3333e-04 - val_loss: 1.9975e-04\n",
            "Epoch 54/60\n",
            "19/19 [==============================] - 5s 244ms/step - loss: 2.4342e-04 - val_loss: 1.9114e-04\n",
            "Epoch 55/60\n",
            "19/19 [==============================] - 5s 257ms/step - loss: 2.5187e-04 - val_loss: 1.9382e-04\n",
            "Epoch 56/60\n",
            "19/19 [==============================] - 4s 215ms/step - loss: 2.2521e-04 - val_loss: 1.9919e-04\n",
            "Epoch 57/60\n",
            "19/19 [==============================] - 4s 221ms/step - loss: 2.2814e-04 - val_loss: 1.9886e-04\n",
            "Epoch 58/60\n",
            "19/19 [==============================] - 4s 239ms/step - loss: 2.1281e-04 - val_loss: 2.4398e-04\n",
            "Epoch 59/60\n",
            "19/19 [==============================] - 5s 261ms/step - loss: 2.1764e-04 - val_loss: 1.8285e-04\n",
            "Epoch 60/60\n",
            "19/19 [==============================] - 6s 290ms/step - loss: 2.0495e-04 - val_loss: 1.6680e-04\n"
          ]
        },
        {
          "output_type": "execute_result",
          "data": {
            "text/plain": [
              "<keras.callbacks.History at 0x7f4c42a9c450>"
            ]
          },
          "metadata": {},
          "execution_count": 40
        }
      ]
    },
    {
      "cell_type": "markdown",
      "source": [
        "Predition and Performance metrices"
      ],
      "metadata": {
        "id": "Mfq9URpIP1qc"
      }
    },
    {
      "cell_type": "code",
      "source": [
        "test_predict=model.predict(x_test)"
      ],
      "metadata": {
        "colab": {
          "base_uri": "https://localhost:8080/"
        },
        "id": "VAuBVzi3P9Vx",
        "outputId": "fb194e73-ba68-4d1b-a758-f688e71b92e8"
      },
      "execution_count": null,
      "outputs": [
        {
          "output_type": "stream",
          "name": "stdout",
          "text": [
            "16/16 [==============================] - 3s 44ms/step\n"
          ]
        }
      ]
    },
    {
      "cell_type": "markdown",
      "source": [
        "Transform back to orignal form"
      ],
      "metadata": {
        "id": "idmjoL2CSaJu"
      }
    },
    {
      "cell_type": "code",
      "source": [
        "test_predict1=scaler.inverse_transform(test_predict)"
      ],
      "metadata": {
        "id": "qOLoQxL3QHBz"
      },
      "execution_count": null,
      "outputs": []
    },
    {
      "cell_type": "code",
      "source": [
        "test_predict1"
      ],
      "metadata": {
        "colab": {
          "base_uri": "https://localhost:8080/"
        },
        "id": "LOOJq2JnQOvs",
        "outputId": "68f8e5b8-261f-4f72-e81a-701664014322"
      },
      "execution_count": null,
      "outputs": [
        {
          "output_type": "execute_result",
          "data": {
            "text/plain": [
              "array([[141.5975  ],\n",
              "       [141.74974 ],\n",
              "       [140.84769 ],\n",
              "       [138.1851  ],\n",
              "       [136.46823 ],\n",
              "       [135.98978 ],\n",
              "       [137.26753 ],\n",
              "       [138.95416 ],\n",
              "       [139.38489 ],\n",
              "       [138.90129 ],\n",
              "       [138.50171 ],\n",
              "       [139.59349 ],\n",
              "       [140.47293 ],\n",
              "       [142.07977 ],\n",
              "       [144.29784 ],\n",
              "       [142.39246 ],\n",
              "       [139.78496 ],\n",
              "       [139.27039 ],\n",
              "       [140.00864 ],\n",
              "       [145.08728 ],\n",
              "       [149.71205 ],\n",
              "       [151.85513 ],\n",
              "       [151.905   ],\n",
              "       [149.55234 ],\n",
              "       [149.12648 ],\n",
              "       [149.05692 ],\n",
              "       [149.66615 ],\n",
              "       [151.47006 ],\n",
              "       [152.26505 ],\n",
              "       [152.14545 ],\n",
              "       [152.33339 ],\n",
              "       [151.114   ],\n",
              "       [147.85239 ],\n",
              "       [142.18932 ],\n",
              "       [138.75311 ],\n",
              "       [137.96002 ],\n",
              "       [138.3761  ],\n",
              "       [137.73163 ],\n",
              "       [135.38411 ],\n",
              "       [131.57925 ],\n",
              "       [128.91089 ],\n",
              "       [127.74659 ],\n",
              "       [125.900444],\n",
              "       [125.158325],\n",
              "       [123.30031 ],\n",
              "       [120.760864],\n",
              "       [119.96462 ],\n",
              "       [119.70855 ],\n",
              "       [120.008064],\n",
              "       [119.202805],\n",
              "       [118.3197  ],\n",
              "       [117.85959 ],\n",
              "       [117.082726],\n",
              "       [117.17344 ],\n",
              "       [118.46581 ],\n",
              "       [120.28224 ],\n",
              "       [122.24819 ],\n",
              "       [123.08424 ],\n",
              "       [122.818535],\n",
              "       [122.69499 ],\n",
              "       [122.77851 ],\n",
              "       [122.63978 ],\n",
              "       [122.84783 ],\n",
              "       [123.27674 ],\n",
              "       [123.52849 ],\n",
              "       [123.58758 ],\n",
              "       [123.380196],\n",
              "       [123.608795],\n",
              "       [124.03391 ],\n",
              "       [124.39357 ],\n",
              "       [123.68897 ],\n",
              "       [122.679054],\n",
              "       [121.3175  ],\n",
              "       [120.06052 ],\n",
              "       [118.78998 ],\n",
              "       [118.8713  ],\n",
              "       [119.49106 ],\n",
              "       [120.48738 ],\n",
              "       [121.58761 ],\n",
              "       [122.78878 ],\n",
              "       [123.90602 ],\n",
              "       [124.58533 ],\n",
              "       [124.98577 ],\n",
              "       [124.97065 ],\n",
              "       [124.767265],\n",
              "       [124.48812 ],\n",
              "       [125.20811 ],\n",
              "       [125.62512 ],\n",
              "       [126.5682  ],\n",
              "       [127.379005],\n",
              "       [127.77431 ],\n",
              "       [128.13576 ],\n",
              "       [128.98752 ],\n",
              "       [128.5984  ],\n",
              "       [128.00336 ],\n",
              "       [127.82621 ],\n",
              "       [127.96291 ],\n",
              "       [128.46162 ],\n",
              "       [129.37016 ],\n",
              "       [129.6837  ],\n",
              "       [129.8765  ],\n",
              "       [132.3935  ],\n",
              "       [136.85391 ],\n",
              "       [140.94727 ],\n",
              "       [142.6884  ],\n",
              "       [143.96948 ],\n",
              "       [143.96365 ],\n",
              "       [143.27318 ],\n",
              "       [141.92218 ],\n",
              "       [140.59811 ],\n",
              "       [139.08948 ],\n",
              "       [138.62445 ],\n",
              "       [139.03041 ],\n",
              "       [140.21307 ],\n",
              "       [141.31506 ],\n",
              "       [141.2987  ],\n",
              "       [140.38957 ],\n",
              "       [139.311   ],\n",
              "       [138.32793 ],\n",
              "       [139.71428 ],\n",
              "       [141.00719 ],\n",
              "       [142.26076 ],\n",
              "       [142.97774 ],\n",
              "       [142.91505 ],\n",
              "       [141.99289 ],\n",
              "       [140.81462 ],\n",
              "       [138.74152 ],\n",
              "       [137.8737  ],\n",
              "       [138.62473 ],\n",
              "       [141.22159 ],\n",
              "       [143.74619 ],\n",
              "       [145.6364  ],\n",
              "       [146.21188 ],\n",
              "       [144.8233  ],\n",
              "       [146.14693 ],\n",
              "       [148.5028  ],\n",
              "       [149.19052 ],\n",
              "       [149.31514 ],\n",
              "       [149.31084 ],\n",
              "       [149.14154 ],\n",
              "       [149.1459  ],\n",
              "       [149.81622 ],\n",
              "       [150.87326 ],\n",
              "       [151.80695 ],\n",
              "       [151.29799 ],\n",
              "       [150.39388 ],\n",
              "       [150.78615 ],\n",
              "       [151.1038  ],\n",
              "       [150.62344 ],\n",
              "       [149.53864 ],\n",
              "       [148.18776 ],\n",
              "       [148.13055 ],\n",
              "       [149.5763  ],\n",
              "       [150.75597 ],\n",
              "       [151.38094 ],\n",
              "       [151.3587  ],\n",
              "       [151.83002 ],\n",
              "       [151.75522 ],\n",
              "       [151.73564 ],\n",
              "       [153.62944 ],\n",
              "       [155.12936 ],\n",
              "       [155.2125  ],\n",
              "       [153.32843 ],\n",
              "       [151.51245 ],\n",
              "       [151.32455 ],\n",
              "       [152.4097  ],\n",
              "       [153.22357 ],\n",
              "       [152.90282 ],\n",
              "       [152.94601 ],\n",
              "       [153.21939 ],\n",
              "       [152.8006  ],\n",
              "       [150.04619 ],\n",
              "       [148.12962 ],\n",
              "       [147.06699 ],\n",
              "       [145.65193 ],\n",
              "       [143.43042 ],\n",
              "       [142.26675 ],\n",
              "       [143.6499  ],\n",
              "       [145.17091 ],\n",
              "       [145.90395 ],\n",
              "       [147.29243 ],\n",
              "       [149.64789 ],\n",
              "       [152.37532 ],\n",
              "       [154.04054 ],\n",
              "       [153.54834 ],\n",
              "       [153.18094 ],\n",
              "       [152.88574 ],\n",
              "       [152.67633 ],\n",
              "       [151.73297 ],\n",
              "       [152.60226 ],\n",
              "       [155.00854 ],\n",
              "       [157.30676 ],\n",
              "       [158.0379  ],\n",
              "       [156.89435 ],\n",
              "       [155.61678 ],\n",
              "       [155.00659 ],\n",
              "       [154.19994 ],\n",
              "       [152.15701 ],\n",
              "       [148.93605 ],\n",
              "       [147.4009  ],\n",
              "       [147.29553 ],\n",
              "       [148.65547 ],\n",
              "       [150.44986 ],\n",
              "       [150.94328 ],\n",
              "       [152.8147  ],\n",
              "       [153.60883 ],\n",
              "       [154.99153 ],\n",
              "       [159.71661 ],\n",
              "       [165.30272 ],\n",
              "       [170.22417 ],\n",
              "       [173.07184 ],\n",
              "       [172.92384 ],\n",
              "       [172.71327 ],\n",
              "       [171.38036 ],\n",
              "       [170.85492 ],\n",
              "       [169.47427 ],\n",
              "       [168.87152 ],\n",
              "       [168.20198 ],\n",
              "       [168.42244 ],\n",
              "       [169.55562 ],\n",
              "       [168.81847 ],\n",
              "       [167.79895 ],\n",
              "       [167.48694 ],\n",
              "       [166.73726 ],\n",
              "       [164.96754 ],\n",
              "       [164.2722  ],\n",
              "       [164.42857 ],\n",
              "       [166.57314 ],\n",
              "       [166.5941  ],\n",
              "       [163.59663 ],\n",
              "       [158.08563 ],\n",
              "       [157.77293 ],\n",
              "       [166.74806 ],\n",
              "       [182.58846 ],\n",
              "       [191.87192 ],\n",
              "       [193.97864 ],\n",
              "       [192.63039 ],\n",
              "       [187.53035 ],\n",
              "       [186.89507 ],\n",
              "       [187.90523 ],\n",
              "       [188.49232 ],\n",
              "       [187.2612  ],\n",
              "       [189.61649 ],\n",
              "       [193.10637 ],\n",
              "       [194.7493  ],\n",
              "       [192.37477 ],\n",
              "       [191.43463 ],\n",
              "       [196.72762 ],\n",
              "       [201.5183  ],\n",
              "       [203.38853 ],\n",
              "       [204.10376 ],\n",
              "       [205.48053 ],\n",
              "       [203.73808 ],\n",
              "       [204.17093 ],\n",
              "       [204.72983 ],\n",
              "       [206.41425 ],\n",
              "       [209.2409  ],\n",
              "       [209.44887 ],\n",
              "       [207.55862 ],\n",
              "       [200.05952 ],\n",
              "       [192.55212 ],\n",
              "       [194.49326 ],\n",
              "       [196.17816 ],\n",
              "       [198.6719  ],\n",
              "       [201.55373 ],\n",
              "       [203.06706 ],\n",
              "       [202.05316 ],\n",
              "       [202.84315 ],\n",
              "       [204.0003  ],\n",
              "       [203.64459 ],\n",
              "       [202.8601  ],\n",
              "       [202.98203 ],\n",
              "       [204.88239 ],\n",
              "       [205.42036 ],\n",
              "       [204.63138 ],\n",
              "       [204.29065 ],\n",
              "       [202.55437 ],\n",
              "       [200.10135 ],\n",
              "       [198.19952 ],\n",
              "       [201.36778 ],\n",
              "       [202.45921 ],\n",
              "       [204.10825 ],\n",
              "       [210.93054 ],\n",
              "       [219.0802  ],\n",
              "       [222.33495 ],\n",
              "       [221.70534 ],\n",
              "       [219.14795 ],\n",
              "       [216.90633 ],\n",
              "       [221.7321  ],\n",
              "       [220.92882 ],\n",
              "       [217.91556 ],\n",
              "       [225.73038 ],\n",
              "       [230.55014 ],\n",
              "       [229.45749 ],\n",
              "       [234.12569 ],\n",
              "       [240.61667 ],\n",
              "       [243.6755  ],\n",
              "       [247.9171  ],\n",
              "       [258.63663 ],\n",
              "       [263.28525 ],\n",
              "       [262.79462 ],\n",
              "       [261.5894  ],\n",
              "       [263.62482 ],\n",
              "       [264.8238  ],\n",
              "       [271.45026 ],\n",
              "       [270.91638 ],\n",
              "       [272.7162  ],\n",
              "       [272.24915 ],\n",
              "       [268.56506 ],\n",
              "       [267.32587 ],\n",
              "       [264.91235 ],\n",
              "       [269.69678 ],\n",
              "       [276.2896  ],\n",
              "       [284.498   ],\n",
              "       [280.56662 ],\n",
              "       [273.15262 ],\n",
              "       [270.14923 ],\n",
              "       [272.48282 ],\n",
              "       [277.3881  ],\n",
              "       [285.64615 ],\n",
              "       [288.99878 ],\n",
              "       [287.71582 ],\n",
              "       [287.5592  ],\n",
              "       [289.88812 ],\n",
              "       [290.98798 ],\n",
              "       [291.63544 ],\n",
              "       [298.0492  ],\n",
              "       [299.38235 ],\n",
              "       [297.0542  ],\n",
              "       [295.67154 ],\n",
              "       [296.47952 ],\n",
              "       [297.92133 ],\n",
              "       [301.56116 ],\n",
              "       [301.76248 ],\n",
              "       [300.03384 ],\n",
              "       [298.6409  ],\n",
              "       [306.38248 ],\n",
              "       [309.19675 ],\n",
              "       [304.04626 ],\n",
              "       [298.77335 ],\n",
              "       [292.36646 ],\n",
              "       [292.60123 ],\n",
              "       [295.22998 ],\n",
              "       [295.49673 ],\n",
              "       [292.93707 ],\n",
              "       [291.43063 ],\n",
              "       [289.68295 ],\n",
              "       [290.42468 ],\n",
              "       [282.56262 ],\n",
              "       [276.38608 ],\n",
              "       [266.754   ],\n",
              "       [262.27808 ],\n",
              "       [258.97595 ],\n",
              "       [267.20154 ],\n",
              "       [273.05225 ],\n",
              "       [271.6303  ],\n",
              "       [272.76038 ],\n",
              "       [271.54056 ],\n",
              "       [268.01703 ],\n",
              "       [263.97604 ],\n",
              "       [257.87006 ],\n",
              "       [252.47443 ],\n",
              "       [254.07922 ],\n",
              "       [254.29173 ],\n",
              "       [259.14368 ],\n",
              "       [263.82104 ],\n",
              "       [265.57068 ],\n",
              "       [265.08203 ],\n",
              "       [263.55798 ],\n",
              "       [263.12265 ],\n",
              "       [262.38895 ],\n",
              "       [258.8049  ],\n",
              "       [259.88568 ],\n",
              "       [258.8662  ],\n",
              "       [262.69583 ],\n",
              "       [266.91318 ],\n",
              "       [268.19345 ],\n",
              "       [268.1699  ],\n",
              "       [263.18762 ],\n",
              "       [252.5956  ],\n",
              "       [249.0435  ],\n",
              "       [251.69803 ],\n",
              "       [251.83644 ],\n",
              "       [250.3906  ],\n",
              "       [252.23758 ],\n",
              "       [254.77126 ],\n",
              "       [252.2206  ],\n",
              "       [260.64032 ],\n",
              "       [265.47995 ],\n",
              "       [262.12524 ],\n",
              "       [260.04166 ],\n",
              "       [259.8564  ],\n",
              "       [263.57462 ],\n",
              "       [264.6103  ],\n",
              "       [263.00732 ],\n",
              "       [261.93948 ],\n",
              "       [263.0696  ],\n",
              "       [266.80893 ],\n",
              "       [269.54446 ],\n",
              "       [271.87506 ],\n",
              "       [273.7026  ],\n",
              "       [274.0424  ],\n",
              "       [271.92288 ],\n",
              "       [270.32846 ],\n",
              "       [274.00476 ],\n",
              "       [278.1225  ],\n",
              "       [279.8768  ],\n",
              "       [283.05753 ],\n",
              "       [281.40524 ],\n",
              "       [275.4668  ],\n",
              "       [273.50424 ],\n",
              "       [278.61896 ],\n",
              "       [279.39203 ],\n",
              "       [279.61716 ],\n",
              "       [275.3979  ],\n",
              "       [274.2998  ],\n",
              "       [254.57057 ],\n",
              "       [234.6541  ],\n",
              "       [229.75975 ],\n",
              "       [238.40831 ],\n",
              "       [243.49405 ],\n",
              "       [242.32129 ],\n",
              "       [241.60344 ],\n",
              "       [242.86664 ],\n",
              "       [245.7287  ],\n",
              "       [248.47028 ],\n",
              "       [250.39232 ],\n",
              "       [248.41527 ],\n",
              "       [250.50584 ],\n",
              "       [255.54013 ],\n",
              "       [254.30554 ],\n",
              "       [246.80165 ],\n",
              "       [248.15997 ],\n",
              "       [253.3932  ],\n",
              "       [256.98325 ],\n",
              "       [257.44907 ],\n",
              "       [254.63518 ],\n",
              "       [255.1981  ],\n",
              "       [257.88623 ],\n",
              "       [264.32245 ],\n",
              "       [263.94223 ],\n",
              "       [263.32465 ],\n",
              "       [258.1173  ],\n",
              "       [251.1566  ],\n",
              "       [247.29463 ],\n",
              "       [250.11427 ],\n",
              "       [254.86902 ],\n",
              "       [258.51633 ],\n",
              "       [257.97144 ],\n",
              "       [255.1562  ],\n",
              "       [256.80048 ],\n",
              "       [255.64919 ],\n",
              "       [264.29132 ],\n",
              "       [267.91263 ],\n",
              "       [263.0205  ],\n",
              "       [255.7894  ],\n",
              "       [258.89468 ],\n",
              "       [263.14612 ],\n",
              "       [261.44443 ],\n",
              "       [256.2336  ],\n",
              "       [249.91856 ],\n",
              "       [238.0339  ],\n",
              "       [236.075   ],\n",
              "       [233.77974 ],\n",
              "       [229.3579  ],\n",
              "       [230.81885 ],\n",
              "       [236.22853 ],\n",
              "       [240.54898 ],\n",
              "       [235.25923 ],\n",
              "       [230.89006 ],\n",
              "       [231.7723  ],\n",
              "       [233.64528 ],\n",
              "       [237.06818 ],\n",
              "       [231.93777 ],\n",
              "       [226.8473  ],\n",
              "       [225.20955 ],\n",
              "       [228.95297 ],\n",
              "       [231.05196 ],\n",
              "       [230.19473 ],\n",
              "       [229.45993 ],\n",
              "       [227.11131 ],\n",
              "       [226.23753 ],\n",
              "       [228.36902 ],\n",
              "       [231.2102  ],\n",
              "       [234.40588 ],\n",
              "       [236.77484 ],\n",
              "       [234.38736 ],\n",
              "       [228.69324 ],\n",
              "       [223.13606 ],\n",
              "       [225.27058 ],\n",
              "       [226.90994 ],\n",
              "       [227.76599 ],\n",
              "       [228.76703 ],\n",
              "       [228.15729 ],\n",
              "       [228.63538 ],\n",
              "       [221.5164  ],\n",
              "       [215.31862 ],\n",
              "       [213.2718  ],\n",
              "       [215.35286 ],\n",
              "       [217.05638 ],\n",
              "       [213.87746 ],\n",
              "       [214.59743 ],\n",
              "       [222.99074 ],\n",
              "       [230.10513 ],\n",
              "       [230.54317 ],\n",
              "       [227.79807 ],\n",
              "       [225.51944 ],\n",
              "       [224.17389 ],\n",
              "       [225.76285 ],\n",
              "       [226.51936 ]], dtype=float32)"
            ]
          },
          "metadata": {},
          "execution_count": 45
        }
      ]
    },
    {
      "cell_type": "markdown",
      "source": [
        "Calculate RMSE performance metrics"
      ],
      "metadata": {
        "id": "FrNfOsZDSgkv"
      }
    },
    {
      "cell_type": "code",
      "source": [
        "import math\n",
        "from sklearn.metrics import mean_squared_error\n",
        "math.sqrt(mean_squared_error(ytest,test_predict))"
      ],
      "metadata": {
        "colab": {
          "base_uri": "https://localhost:8080/"
        },
        "id": "AKQGKrvZQR9R",
        "outputId": "2e2b8fbd-e935-4e21-91c3-346dc7b9521d"
      },
      "execution_count": null,
      "outputs": [
        {
          "output_type": "execute_result",
          "data": {
            "text/plain": [
              "0.036318261866018255"
            ]
          },
          "metadata": {},
          "execution_count": 46
        }
      ]
    }
  ]
}